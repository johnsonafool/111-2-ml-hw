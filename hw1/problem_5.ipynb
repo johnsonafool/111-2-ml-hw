{
 "cells": [
  {
   "cell_type": "code",
   "execution_count": 1,
   "metadata": {
    "tags": []
   },
   "outputs": [],
   "source": [
    "# import required dependency\n",
    "import numpy as np\n",
    "import pandas as pd\n",
    "\n",
    "from sklearn import datasets\n",
    "from sklearn.model_selection import train_test_split\n",
    "from sklearn.preprocessing import Normalizer\n",
    "from sklearn.metrics import accuracy_score\n",
    "\n",
    "from collections import Counter"
   ]
  },
  {
   "cell_type": "code",
   "execution_count": 82,
   "metadata": {
    "tags": []
   },
   "outputs": [
    {
     "name": "stdout",
     "output_type": "stream",
     "text": [
      "training size: 90 \n",
      "validation size:30 \n",
      "test size: 30 \n"
     ]
    }
   ],
   "source": [
    "# import iris dataset\n",
    "iris = datasets.load_iris()\n",
    "# np.c_ is the numpy concatenate function\n",
    "iris_df = pd.DataFrame(data= np.c_[iris['data'], iris['target']],\n",
    "                      columns= iris['feature_names'] + ['target'])\n",
    "\n",
    "x= iris_df.iloc[:, :-1]\n",
    "y= iris_df.iloc[:, -1]\n",
    "\n",
    "# splitting to 6:2:2\n",
    "# for splitting test dataset\n",
    "x_train, x_test, y_train, y_test = train_test_split(x, y, test_size=0.2, random_state=1)\n",
    "\n",
    "# for splitting val dataset\n",
    "x_train, x_val, y_train, y_val = train_test_split(x_train, y_train, test_size=0.25, random_state=1) \n",
    "\n",
    "x_train= np.asarray(x_train)\n",
    "y_train= np.asarray(y_train)\n",
    "\n",
    "x_test= np.asarray(x_test)\n",
    "y_test= np.asarray(y_test)\n",
    "\n",
    "x_val= np.asarray(x_val)\n",
    "y_val= np.asarray(y_val)\n",
    "\n",
    "# check the size ratio\n",
    "print(f'training size: {x_train.shape[0]} \\nvalidation size:{x_val.shape[0]} \\ntest size: {x_test.shape[0]} ')"
   ]
  },
  {
   "cell_type": "code",
   "execution_count": 62,
   "metadata": {
    "tags": []
   },
   "outputs": [],
   "source": [
    "scaler= Normalizer().fit(x_train) \n",
    "normalized_x_train= scaler.transform(x_train) \n",
    "normalized_x_test= scaler.transform(x_test) \n",
    "normalized_x_val= scaler.transform(x_val) \n",
    "\n",
    "def distance_ecu(x_train, x_test_point):\n",
    "  distances= []  \n",
    "  for row in range(len(x_train)): \n",
    "      current_train_point= x_train[row] \n",
    "      current_distance= 0 \n",
    "\n",
    "      for col in range(len(current_train_point)): \n",
    "          current_distance += (current_train_point[col] - x_test_point[col]) **2\n",
    "      current_distance= np.sqrt(current_distance)\n",
    "\n",
    "      distances.append(current_distance) \n",
    "\n",
    "  distances= pd.DataFrame(data=distances,columns=['dist'])\n",
    "  return distances\n",
    "\n",
    "def nearest_neighbors(distance_point, K):\n",
    "    df_nearest= distance_point.sort_values(by=['dist'], axis=0)\n",
    "    df_nearest= df_nearest[:K]\n",
    "    return df_nearest\n",
    "\n",
    "def voting(df_nearest, y_train):\n",
    "    counter_vote= Counter(y_train[df_nearest.index])\n",
    "    y_pred= counter_vote.most_common()[0][0]\n",
    "    return y_pred\n",
    "\n",
    "def KNN(x_train, y_train, x_test, K):\n",
    "    y_pred=[]\n",
    "\n",
    "    for x_test_point in x_test:\n",
    "      distance_point  = distance_ecu(x_train, x_test_point)  \n",
    "      df_nearest_point= nearest_neighbors(distance_point, K)  \n",
    "      y_pred_point    = voting(df_nearest_point, y_train) \n",
    "      y_pred.append(y_pred_point)\n",
    "        \n",
    "    return y_pred"
   ]
  },
  {
   "cell_type": "code",
   "execution_count": 87,
   "metadata": {
    "tags": []
   },
   "outputs": [
    {
     "name": "stdout",
     "output_type": "stream",
     "text": [
      "30\n",
      "avg_acc: 3 0.9333333333333333\n",
      "30\n",
      "avg_acc: 4 0.9333333333333333\n",
      "30\n",
      "avg_acc: 5 0.9666666666666666\n",
      "30\n",
      "avg_acc: 6 0.9333333333333333\n",
      "30\n",
      "avg_acc: 7 0.9666666666666666\n",
      "30\n",
      "avg_acc: 8 1.0\n",
      "30\n",
      "avg_acc: 9 0.9666666666666666\n",
      "30\n",
      "avg_acc: 10 0.9666666666666666\n",
      "30\n",
      "avg_acc: 11 0.9666666666666666\n"
     ]
    }
   ],
   "source": [
    "for k in range(3,12):\n",
    "    total_acc = 0\n",
    "    y_pred_scratch= KNN(normalized_x_train, y_train, normalized_x_test, k)\n",
    "    # use predicted result to iterate 10 times for avg acc\n",
    "    for j in range(10):\n",
    "        acc = accuracy_score(y_test, y_pred_scratch)\n",
    "        total_acc += acc\n",
    "    avg_acc = total_acc / 10\n",
    "    print(f'avg_acc: {k}', avg_acc)"
   ]
  },
  {
   "cell_type": "code",
   "execution_count": 83,
   "metadata": {
    "tags": []
   },
   "outputs": [
    {
     "data": {
      "text/plain": [
       "array([[5.5, 2.4, 3.7, 1. ],\n",
       "       [4.4, 3. , 1.3, 0.2],\n",
       "       [5.1, 3.3, 1.7, 0.5],\n",
       "       [6.3, 2.5, 4.9, 1.5],\n",
       "       [5. , 3.5, 1.6, 0.6],\n",
       "       [6.5, 3. , 5.5, 1.8],\n",
       "       [5.7, 2.5, 5. , 2. ],\n",
       "       [6.8, 3.2, 5.9, 2.3],\n",
       "       [6.3, 3.3, 6. , 2.5],\n",
       "       [4.9, 3. , 1.4, 0.2],\n",
       "       [5.1, 3.5, 1.4, 0.2],\n",
       "       [4.9, 2.4, 3.3, 1. ],\n",
       "       [5.6, 2.5, 3.9, 1.1],\n",
       "       [4.3, 3. , 1.1, 0.1],\n",
       "       [7.2, 3. , 5.8, 1.6],\n",
       "       [6.4, 2.7, 5.3, 1.9],\n",
       "       [6.2, 2.2, 4.5, 1.5],\n",
       "       [5. , 3.4, 1.5, 0.2],\n",
       "       [6.2, 3.4, 5.4, 2.3],\n",
       "       [7.4, 2.8, 6.1, 1.9],\n",
       "       [6.1, 2.8, 4. , 1.3],\n",
       "       [5. , 3.6, 1.4, 0.2],\n",
       "       [5.1, 3.7, 1.5, 0.4],\n",
       "       [5.8, 2.7, 5.1, 1.9],\n",
       "       [5.5, 2.4, 3.8, 1.1],\n",
       "       [5. , 2. , 3.5, 1. ],\n",
       "       [6.5, 3. , 5.8, 2.2],\n",
       "       [6. , 2.2, 4. , 1. ],\n",
       "       [6.4, 3.2, 5.3, 2.3],\n",
       "       [5.7, 2.6, 3.5, 1. ]])"
      ]
     },
     "execution_count": 83,
     "metadata": {},
     "output_type": "execute_result"
    }
   ],
   "source": [
    "x_val"
   ]
  },
  {
   "cell_type": "code",
   "execution_count": 84,
   "metadata": {
    "tags": []
   },
   "outputs": [
    {
     "data": {
      "text/plain": [
       "array([[5.8, 4. , 1.2, 0.2],\n",
       "       [5.1, 2.5, 3. , 1.1],\n",
       "       [6.6, 3. , 4.4, 1.4],\n",
       "       [5.4, 3.9, 1.3, 0.4],\n",
       "       [7.9, 3.8, 6.4, 2. ],\n",
       "       [6.3, 3.3, 4.7, 1.6],\n",
       "       [6.9, 3.1, 5.1, 2.3],\n",
       "       [5.1, 3.8, 1.9, 0.4],\n",
       "       [4.7, 3.2, 1.6, 0.2],\n",
       "       [6.9, 3.2, 5.7, 2.3],\n",
       "       [5.6, 2.7, 4.2, 1.3],\n",
       "       [5.4, 3.9, 1.7, 0.4],\n",
       "       [7.1, 3. , 5.9, 2.1],\n",
       "       [6.4, 3.2, 4.5, 1.5],\n",
       "       [6. , 2.9, 4.5, 1.5],\n",
       "       [4.4, 3.2, 1.3, 0.2],\n",
       "       [5.8, 2.6, 4. , 1.2],\n",
       "       [5.6, 3. , 4.5, 1.5],\n",
       "       [5.4, 3.4, 1.5, 0.4],\n",
       "       [5. , 3.2, 1.2, 0.2],\n",
       "       [5.5, 2.6, 4.4, 1.2],\n",
       "       [5.4, 3. , 4.5, 1.5],\n",
       "       [6.7, 3. , 5. , 1.7],\n",
       "       [5. , 3.5, 1.3, 0.3],\n",
       "       [7.2, 3.2, 6. , 1.8],\n",
       "       [5.7, 2.8, 4.1, 1.3],\n",
       "       [5.5, 4.2, 1.4, 0.2],\n",
       "       [5.1, 3.8, 1.5, 0.3],\n",
       "       [6.1, 2.8, 4.7, 1.2],\n",
       "       [6.3, 2.5, 5. , 1.9]])"
      ]
     },
     "execution_count": 84,
     "metadata": {},
     "output_type": "execute_result"
    }
   ],
   "source": [
    "x_test"
   ]
  },
  {
   "cell_type": "code",
   "execution_count": 100,
   "metadata": {
    "tags": []
   },
   "outputs": [
    {
     "name": "stdout",
     "output_type": "stream",
     "text": [
      "0.9666666666666666\n"
     ]
    }
   ],
   "source": [
    "# select k = 8\n",
    "# iterate 10 times and caculate for avg acc\n",
    "acc_total = 0\n",
    "for i in range(10):\n",
    "    y_pred_scratch= KNN(normalized_x_test, y_test, normalized_x_val, 8) \n",
    "    acc = accuracy_score(y_test, y_pred_scratch)\n",
    "    acc_total += acc\n",
    "\n",
    "avg_acc = acc_total/10\n",
    "    \n",
    "print(avg_acc)"
   ]
  },
  {
   "cell_type": "code",
   "execution_count": null,
   "metadata": {},
   "outputs": [],
   "source": []
  }
 ],
 "metadata": {
  "kernelspec": {
   "display_name": "Python 3 (ipykernel)",
   "language": "python",
   "name": "python3"
  },
  "language_info": {
   "codemirror_mode": {
    "name": "ipython",
    "version": 3
   },
   "file_extension": ".py",
   "mimetype": "text/x-python",
   "name": "python",
   "nbconvert_exporter": "python",
   "pygments_lexer": "ipython3",
   "version": "3.10.9"
  }
 },
 "nbformat": 4,
 "nbformat_minor": 4
}
